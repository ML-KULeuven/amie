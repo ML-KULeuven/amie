{
 "cells": [
  {
   "cell_type": "code",
   "execution_count": 1,
   "metadata": {},
   "outputs": [],
   "source": [
    "%load_ext autoreload\n",
    "%autoreload 2\n",
    "import os; import sys;src_dir = os.path.join(os.getcwd(), os.pardir, 'src');sys.path.append(src_dir)"
   ]
  },
  {
   "cell_type": "code",
   "execution_count": 24,
   "metadata": {},
   "outputs": [],
   "source": [
    "from data.dal import DAL\n",
    "import pandas as pd\n",
    "import numpy as np\n",
    "import dtaidistance\n",
    "from dtaidistance import dtw\n",
    "from tqdm import tqdm\n",
    "import models.nndtw as nn\n",
    "import sklearn.model_selection\n",
    "import sklearn.model_selection"
   ]
  },
  {
   "cell_type": "code",
   "execution_count": 3,
   "metadata": {},
   "outputs": [],
   "source": [
    "split = DAL(\"split.hdf\")"
   ]
  },
  {
   "cell_type": "code",
   "execution_count": 4,
   "metadata": {
    "scrolled": true
   },
   "outputs": [],
   "source": [
    "split.overview()\n",
    "dfs =[split.get(k) for k in split.overview().df_key]"
   ]
  },
  {
   "cell_type": "code",
   "execution_count": 24,
   "metadata": {},
   "outputs": [
    {
     "name": "stderr",
     "output_type": "stream",
     "text": [
      "100%|██████████| 75/75 [3:01:38<00:00, 145.31s/it]  \n"
     ]
    }
   ],
   "source": [
    "\n",
    "dm = nn.distance_matrix(dfs)\n",
    "np.save(\"../data/distance_matrix.npy\",dm)"
   ]
  },
  {
   "cell_type": "code",
   "execution_count": 5,
   "metadata": {},
   "outputs": [
    {
     "data": {
      "image/png": "[encoded data removed]",
      "text/plain": [
       "<matplotlib.figure.Figure at 0x7f17bda515f8>"
      ]
     },
     "metadata": {},
     "output_type": "display_data"
    }
   ],
   "source": [
    "import matplotlib.pyplot as plt\n",
    "dm = np.load(\"../data/distance_matrix.npy\")\n",
    "plt.hist(dm[2][5:])\n",
    "plt.show()"
   ]
  },
  {
   "cell_type": "code",
   "execution_count": 34,
   "metadata": {},
   "outputs": [
    {
     "name": "stdout",
     "output_type": "stream",
     "text": [
      "('exercise', 'DTW', 'Leave-one-set-out CV', {'fit_time': array([0.00377393, 0.0036962 , 0.00369596, 0.00369096, 0.00367522,\n",
      "       0.00369835, 0.00366926, 0.00367999, 0.00367022, 0.00367498]), 'score_time': array([0.00123501, 0.00109076, 0.00107074, 0.00106144, 0.00104976,\n",
      "       0.0010519 , 0.00102592, 0.0010643 , 0.00102568, 0.00105786]), 'test_score': array([1., 1., 1., 1., 1., 1., 1., 1., 1., 1.]), 'train_score': array([1., 1., 1., 1., 1., 1., 1., 1., 1., 1.])})\n",
      "('exercise', 'DTW', 'Leave-one-subject-out CV', {'fit_time': array([0.00368404, 0.00367713, 0.00369024, 0.0036695 , 0.00367141,\n",
      "       0.00366759, 0.00369525, 0.00367737, 0.00367641, 0.00368857]), 'score_time': array([0.00107193, 0.00105524, 0.00104809, 0.00102758, 0.00103641,\n",
      "       0.00104499, 0.00116873, 0.0009973 , 0.00099564, 0.00097871]), 'test_score': array([1.        , 1.        , 1.        , 0.67403315, 0.97222222,\n",
      "       1.        , 1.        , 1.        , 1.        , 1.        ]), 'train_score': array([1., 1., 1., 1., 1., 1., 1., 1., 1., 1.])})\n",
      "('correct', 'DTW', 'Leave-one-set-out CV', {'fit_time': array([0.00365829, 0.00368309, 0.00369167, 0.00422382, 0.00422144,\n",
      "       0.00392222, 0.0036869 , 0.00369596, 0.00369072, 0.00370026]), 'score_time': array([0.00108147, 0.00105286, 0.00106192, 0.00118256, 0.00118542,\n",
      "       0.00114346, 0.00110221, 0.00107408, 0.00107408, 0.00111556]), 'test_score': array([0.86263736, 0.80769231, 0.83516484, 0.82777778, 0.83050847,\n",
      "       0.89204545, 0.84659091, 0.83522727, 0.80681818, 0.8579235 ]), 'train_score': array([0.97450249, 0.97325871, 0.97512438, 0.98074534, 0.97768134,\n",
      "       0.9708798 , 0.97335812, 0.97831475, 0.97645601, 0.97448662])})\n",
      "('correct', 'DTW', 'Leave-one-subject-out CV', {'fit_time': array([0.00367594, 0.00366807, 0.00368166, 0.00369215, 0.00368881,\n",
      "       0.00368166, 0.00367236, 0.00382423, 0.00436211, 0.00368929]), 'score_time': array([0.00109959, 0.00108385, 0.00108242, 0.00103521, 0.00106001,\n",
      "       0.00104928, 0.00102234, 0.0010221 , 0.0012157 , 0.0010643 ]), 'test_score': array([0.69680851, 0.65591398, 0.51648352, 0.32044199, 0.76111111,\n",
      "       0.65730337, 0.60227273, 0.70857143, 0.61849711, 0.69590643]), 'train_score': array([0.97503121, 0.97194514, 0.97699005, 0.97513984, 0.9757764 ,\n",
      "       0.97580645, 0.97583643, 0.97275542, 0.97835498, 0.97282273])})\n",
      "('execution_type', 'DTW', 'Leave-one-set-out CV', {'fit_time': array([0.00364947, 0.00369978, 0.00369644, 0.0036931 , 0.00368595,\n",
      "       0.00368214, 0.00367236, 0.00366902, 0.00367069, 0.00366426]), 'score_time': array([0.00108695, 0.00108099, 0.00106645, 0.00102925, 0.00101137,\n",
      "       0.00102162, 0.00101423, 0.00100732, 0.00101948, 0.00104666]), 'test_score': array([0.62087912, 0.53846154, 0.62637363, 0.66111111, 0.6440678 ,\n",
      "       0.64772727, 0.5625    , 0.6875    , 0.60227273, 0.67759563]), 'train_score': array([0.96393035, 0.96268657, 0.96206468, 0.96583851, 0.96404216,\n",
      "       0.95724907, 0.96282528, 0.96592317, 0.96592317, 0.96204107])})\n",
      "('execution_type', 'DTW', 'Leave-one-subject-out CV', {'fit_time': array([0.00366378, 0.00367641, 0.00368309, 0.0036819 , 0.00368381,\n",
      "       0.00367785, 0.00368643, 0.00367928, 0.0036993 , 0.00369477]), 'score_time': array([0.00108624, 0.00107002, 0.00104785, 0.00101948, 0.00104284,\n",
      "       0.00104547, 0.00101352, 0.00100088, 0.00101495, 0.00099182]), 'test_score': array([0.63829787, 0.58064516, 0.47802198, 0.28729282, 0.7       ,\n",
      "       0.57865169, 0.57386364, 0.59428571, 0.58381503, 0.53216374]), 'train_score': array([0.9619226 , 0.95760599, 0.96268657, 0.96333126, 0.96273292,\n",
      "       0.96091811, 0.96282528, 0.96037152, 0.96413111, 0.9592341 ])})\n"
     ]
    }
   ],
   "source": [
    "labels = split.overview()\n",
    "labels[\"correct\"] = labels.execution_type == 1\n",
    "X = np.array(list(range(0,len(labels))))\n",
    "sets = [int(x.replace(\"skeleton_\",\"\")) //100 for x in labels.df_key]\n",
    "cv2 = lambda : sklearn.model_selection.GroupKFold(10).split(X,groups=sets)\n",
    "cv3 = lambda : sklearn.model_selection.GroupKFold(10).split(X,groups=labels.person)\n",
    "\n",
    "clf = nn.DTWClassifier(\"../data/distance_matrix.npy\")\n",
    "results = []\n",
    "for t in [\"exercise\",\"correct\",\"execution_type\"]:\n",
    "    y = labels[t].values\n",
    "    exercisetrans = sklearn.preprocessing.LabelEncoder()\n",
    "    y = exercisetrans.fit_transform(y)\n",
    "    for cvname,cv in [(\"Leave-one-set-out CV\",cv2),\n",
    "                    (\"Leave-one-subject-out CV\",cv3)]:\n",
    "        scores = sklearn.model_selection.cross_validate(clf,X,y,cv=cv(),return_train_score=True,scoring=\"accuracy\")\n",
    "        result = (t,\"DTW\",cvname,scores)\n",
    "        print(result)\n",
    "        results.append(result)"
   ]
  },
  {
   "cell_type": "code",
   "execution_count": 35,
   "metadata": {},
   "outputs": [
    {
     "name": "stdout",
     "output_type": "stream",
     "text": [
      "\\begin{tabular}{lllllll}\n",
      "\\toprule\n",
      "t & \\multicolumn{2}{l}{t1} & \\multicolumn{2}{l}{t2} & \\multicolumn{2}{l}{t3} \\\\\n",
      "shortcv & \\$CV\\_\\{set\\}\\$ & \\$CV\\_\\{subject\\}\\$ & \\$CV\\_\\{set\\}\\$ & \\$CV\\_\\{subject\\}\\$ & \\$CV\\_\\{set\\}\\$ & \\$CV\\_\\{subject\\}\\$ \\\\\n",
      "clf &            &                &            &                &            &                \\\\\n",
      "\\midrule\n",
      "DTW &      1.000 &          0.965 &      0.840 &          0.623 &      0.627 &          0.555 \\\\\n",
      "\\bottomrule\n",
      "\\end{tabular}\n",
      "\n"
     ]
    }
   ],
   "source": [
    "import scipy.stats as stats\n",
    "\n",
    "res = pd.DataFrame(results,columns=[\"y\",\"clf\",\"cv\",\"scores\"])\n",
    "\n",
    "def summarize(scores):\n",
    "    s = scores[\"test_score\"]\n",
    "    lo,hi = stats.t.interval(alpha = 0.95,              # Confidence level\n",
    "                 df= len(s)-1,                    # Degrees of freedom\n",
    "                 loc = s.mean(),         # Sample mean\n",
    "                 scale = s.std())\n",
    "    return s.mean()#\"%.3f pm %.3f\" % ((lo+hi)/2,(hi-lo)/2)\n",
    "\n",
    "def t(y):\n",
    "    if y == \"exercise\":\n",
    "        return \"t1\"\n",
    "    if y == \"correct\":\n",
    "        return \"t2\"\n",
    "    if y == \"execution_type\":\n",
    "        return \"t3\"\n",
    "def shortcv(cv):\n",
    "    if cv == \"Leave-one-set-out CV\":\n",
    "        return \"$CV_{set}$\"\n",
    "    if cv == \"Leave-one-subject-out CV\":\n",
    "        return \"$CV_{subject}$\"\n",
    "    \n",
    "res[\"t\"] = res.y.apply(t)\n",
    "res[\"scores\"] = res.scores.apply(summarize)\n",
    "res[\"shortcv\"] = res.cv.apply(shortcv)\n",
    "\n",
    "#res = res[res.y == \"execution_type\"]\n",
    "#res.pivot(index=0,columns=1,values=2)\n",
    "#print(res.pivot(index=\"clf\",columns=\"cv\",values=\"scores\").to_latex())\n",
    "df = res.pivot_table(index=\"clf\",columns=[\"t\",\"shortcv\"],values=\"scores\")\n",
    "\n",
    "print(df.applymap(lambda x: '%.3f' % x).to_latex())"
   ]
  },
  {
   "cell_type": "code",
   "execution_count": null,
   "metadata": {},
   "outputs": [],
   "source": [
    "totaldist = dists[0].copy()\n",
    "for i in range(1,len(dists)):\n",
    "    totaldist += dists[i]\n",
    "\n",
    "printm(totaldist)"
   ]
  },
  {
   "cell_type": "code",
   "execution_count": null,
   "metadata": {},
   "outputs": [],
   "source": [
    "#print(dists)\n",
    "#print(totaldist)\n",
    "def printm(m):\n",
    "    for row in m:\n",
    "        print([\"%.1f\" % x for x in row])\n",
    "for d in dists:\n",
    "    printm(d)\n",
    "printm(totaldist)"
   ]
  }
 ],
 "metadata": {
  "kernelspec": {
   "display_name": "Python 3",
   "language": "python",
   "name": "python3"
  },
  "language_info": {
   "codemirror_mode": {
    "name": "ipython",
    "version": 3
   },
   "file_extension": ".py",
   "mimetype": "text/x-python",
   "name": "python",
   "nbconvert_exporter": "python",
   "pygments_lexer": "ipython3",
   "version": "3.6.3"
  }
 },
 "nbformat": 4,
 "nbformat_minor": 2
}
