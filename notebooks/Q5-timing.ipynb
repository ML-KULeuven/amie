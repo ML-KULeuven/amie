{
 "cells": [
  {
   "cell_type": "code",
   "execution_count": 1,
   "metadata": {},
   "outputs": [],
   "source": [
    "%load_ext autoreload\n",
    "%autoreload 2\n",
    "import os; import sys;src_dir = os.path.join(os.getcwd(), os.pardir, 'src');sys.path.append(src_dir)"
   ]
  },
  {
   "cell_type": "code",
   "execution_count": 2,
   "metadata": {},
   "outputs": [],
   "source": [
    "import config\n",
    "import pandas as pd\n",
    "import ujson as json\n",
    "from tqdm import tqdm"
   ]
  },
  {
   "cell_type": "code",
   "execution_count": 4,
   "metadata": {
    "scrolled": false
   },
   "outputs": [],
   "source": [
    "'''\n",
    "LABELS:\n",
    "1 = correct\n",
    "2 = too far over the toes\n",
    "3 = knocked knees\n",
    "4 = back not straight\n",
    "'''\n",
    "\n",
    "def standard_session(name):\n",
    "    return {\n",
    "    'name': name,\n",
    "    'squats-correct': [1,1,1],\n",
    "    'squats-wrong': [2,3,4],\n",
    "    'lunges-correct': [1,1,1],\n",
    "    'lunges-wrong': [2,3,4],\n",
    "    'sidelunges-correct': [1,1,1],\n",
    "    'sidelunges-wrong': [4,4,4]\n",
    "    }\n",
    "\n",
    "evgeniya = standard_session('evgeniya')\n",
    "evgeniya['lunges-correct'] = [1,1,1,1]\n",
    "\n",
    "sergey = standard_session('sergey')\n",
    "sergey['lunges-correct'] = [1,1,1,1]\n",
    "\n",
    "tom = standard_session('tom')\n",
    "tom['sidelunges-correct'] = [1,1,1,1]\n",
    "\n",
    "tim = standard_session('tim')\n",
    "tim['lunges-wrong'] = [2,3,4,4]\n",
    "\n",
    "jessa = standard_session('jessa')\n",
    "\n",
    "pedro = standard_session('pedro')\n",
    "\n",
    "stella = standard_session('stella')\n",
    "\n",
    "toon = standard_session('toon')\n",
    "toon['squats-correct'] = [1,1,1,1]\n",
    "\n",
    "gust = standard_session('gust')\n",
    "\n",
    "vincent = standard_session('vincent')\n",
    "vincent['sidelunges-wrong'] = [4,4,4,4]\n",
    "\n",
    "persons = [evgeniya,sergey,tom,tim,jessa,pedro,stella,toon,gust,vincent]\n",
    "\n",
    "def get_person(personfolder):\n",
    "    for person in persons:\n",
    "        if person['name'] in personfolder:\n",
    "            return person\n",
    "\n",
    "def validxeffile(x):\n",
    "    minsizemb = 500\n",
    "    minfilesize = minsizemb * 1000 * 1000\n",
    "    return '.xef' in x and os.path.getsize(x) > minfilesize\n",
    "\n",
    "def read_jointsjson(filename):\n",
    "    with open(filename,'rb') as f:\n",
    "        bodies = json.load(f)\n",
    "    jointsframes = [x['Joints'] if x else None for x in bodies]\n",
    "    data = []\n",
    "    for jointsframe in jointsframes:\n",
    "        jointsdict = {}\n",
    "        if jointsframe is not None:\n",
    "            for k,v in jointsframe.items():\n",
    "                for coor in ['X','Y','Z']:\n",
    "                    jointsdict[k+coor] = v['Position'][coor]\n",
    "        data.append(jointsdict)\n",
    "    \n",
    "    df = pd.DataFrame(data)\n",
    "    df = df.fillna(method='pad').fillna(method='backfill')\n",
    "    return df\n",
    "\n",
    "jsonfiles = []\n",
    "df_id = 1\n",
    "overview = []\n",
    "for personfolder in os.listdir(config.frontviewjson):\n",
    "    for exercise in ['squat','lunge','sidelunge']:\n",
    "        for correct in ['correct','wrong']:\n",
    "            person = get_person(personfolder)\n",
    "            exercise_set = exercise + \"s-\" + correct\n",
    "            ei_folder = \"/\".join([config.frontviewjson,personfolder,exercise_set])\n",
    "            eis = [x for x in os.listdir(ei_folder) if validxeffile(ei_folder + \"/\" + x)]\n",
    "            ets = person[exercise_set]\n",
    "            assert(len(eis) == len(ets))\n",
    "            for exer_inst,exec_type in zip(eis,ets):\n",
    "                jsonfile = ei_folder + \"/\" + exer_inst.replace(\".xef\",\"-bodyframes.json\")\n",
    "                jsonfiles.append(jsonfile)"
   ]
  },
  {
   "cell_type": "code",
   "execution_count": 9,
   "metadata": {},
   "outputs": [
    {
     "name": "stderr",
     "output_type": "stream",
     "text": [
      "100%|██████████| 186/186 [00:28<00:00,  6.49it/s]\n",
      "100%|██████████| 186/186 [00:05<00:00, 33.17it/s]\n"
     ]
    }
   ],
   "source": [
    "import data.split as split\n",
    "dfs = []\n",
    "# proxy for timing extracting data\n",
    "for f in tqdm(jsonfiles):\n",
    "    df = read_jointsjson(f)\n",
    "    dfs.append(df)\n",
    "# timing splitting data\n",
    "for f in tqdm(dfs):\n",
    "    split.split(df)\n"
   ]
  },
  {
   "cell_type": "code",
   "execution_count": 10,
   "metadata": {},
   "outputs": [
    {
     "name": "stderr",
     "output_type": "stream",
     "text": [
      "100%|██████████| 186/186 [00:09<00:00, 19.31it/s]\n"
     ]
    }
   ],
   "source": [
    "import features.angles as ang\n",
    "\n",
    "# timing constructing feature vectors\n",
    "for df in tqdm(dfs):\n",
    "    ang = ang.kinect.get_angles(df)\n",
    "    # computing statistics is negligible in time cost"
   ]
  },
  {
   "cell_type": "code",
   "execution_count": 24,
   "metadata": {},
   "outputs": [
    {
     "name": "stdout",
     "output_type": "stream",
     "text": [
      "6.56396983056095e-05\n",
      "6.426246472577143e-05\n",
      "5.3541620350416816e-05\n",
      "5.1069526033028546e-05\n",
      "0.00013293500719123712\n",
      "0.00013011394266309684\n"
     ]
    }
   ],
   "source": [
    "# timing classifying examples\n",
    "import pickle\n",
    "import numpy as np\n",
    "with open('../data/resultsQ1.pkl','rb') as fh:\n",
    "    results = pickle.load(fh)\n",
    "\n",
    "for result in results:\n",
    "    if \"XG\" in result[2]:\n",
    "        print(np.mean(result[3][\"score_time\"])*10/1790*10)"
   ]
  },
  {
   "cell_type": "code",
   "execution_count": 4,
   "metadata": {},
   "outputs": [],
   "source": []
  }
 ],
 "metadata": {
  "kernelspec": {
   "display_name": "Python 3",
   "language": "python",
   "name": "python3"
  },
  "language_info": {
   "codemirror_mode": {
    "name": "ipython",
    "version": 3
   },
   "file_extension": ".py",
   "mimetype": "text/x-python",
   "name": "python",
   "nbconvert_exporter": "python",
   "pygments_lexer": "ipython3",
   "version": "3.6.3"
  }
 },
 "nbformat": 4,
 "nbformat_minor": 2
}
