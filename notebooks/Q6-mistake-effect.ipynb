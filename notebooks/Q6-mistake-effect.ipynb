{
 "cells": [
  {
   "cell_type": "code",
   "execution_count": 1,
   "metadata": {},
   "outputs": [],
   "source": [
    "%load_ext autoreload\n",
    "%autoreload 2\n",
    "import os; import sys;src_dir = os.path.join(os.getcwd(), os.pardir, 'src');sys.path.append(src_dir)"
   ]
  },
  {
   "cell_type": "code",
   "execution_count": 2,
   "metadata": {},
   "outputs": [],
   "source": [
    "from data.dal import DAL\n",
    "import pandas as pd\n",
    "import numpy as np\n",
    "import sklearn\n",
    "import sklearn.model_selection\n",
    "import sklearn.linear_model\n",
    "import sklearn.ensemble\n",
    "import sklearn.naive_bayes\n",
    "import xgboost\n",
    "import tqdm\n",
    "import sklearn.neighbors\n",
    "from sklearn.decomposition import PCA\n",
    "from pandas_ml import ConfusionMatrix\n",
    "import warnings\n",
    "warnings.filterwarnings('ignore')"
   ]
  },
  {
   "cell_type": "code",
   "execution_count": 3,
   "metadata": {},
   "outputs": [],
   "source": [
    "split = DAL(\"split.hdf\")\n",
    "labels = split.overview()\n",
    "labels[\"correct\"] = labels.execution_type == 1"
   ]
  },
  {
   "cell_type": "code",
   "execution_count": 6,
   "metadata": {},
   "outputs": [],
   "source": [
    "featuresdal = DAL(\"features.hdf\")\n",
    "features = featuresdal.get(\"tsfresh_raw_min\")\n",
    "features = features[[c for c in features.columns]]\n",
    "X = features.values\n",
    "\n",
    "y = labels[\"execution_type\"].values\n",
    "exercisetrans = sklearn.preprocessing.LabelEncoder()\n",
    "y = exercisetrans.fit_transform(y)"
   ]
  },
  {
   "cell_type": "code",
   "execution_count": 7,
   "metadata": {},
   "outputs": [
    {
     "data": {
      "text/plain": [
       "Predicted  1 None  2 KOT  3 KK  4 FTL\n",
       "Actual                               \n",
       "1 None        816     30    19     30\n",
       "2 KOT         161     10    20      5\n",
       "3 KK          110     26    52      6\n",
       "4 FTL          40      8     8    449"
      ]
     },
     "execution_count": 7,
     "metadata": {},
     "output_type": "execute_result"
    }
   ],
   "source": [
    "clf = xgboost.XGBClassifier()\n",
    "sets = [int(x.replace(\"skeleton_\",\"\")) //100 for x in labels.df_key]\n",
    "cvstrat = sklearn.model_selection.GroupKFold(10).split(X,groups=sets)\n",
    "preds = sklearn.model_selection.cross_val_predict(clf,X,y,cv=cvstrat)\n",
    "a = [\"1 None\",\"2 KOT\",\"3 KK\",\"4 FTL\"]\n",
    "ConfusionMatrix(y,preds,a,display_sum=False)"
   ]
  },
  {
   "cell_type": "code",
   "execution_count": 8,
   "metadata": {},
   "outputs": [
    {
     "data": {
      "text/plain": [
       "Predicted  1 None  2 KOT  3 KK  4 FTL\n",
       "Actual                               \n",
       "1 None        724     56    66     49\n",
       "2 KOT         121     38    28      9\n",
       "3 KK           75     10   101      8\n",
       "4 FTL          37      3     6    459"
      ]
     },
     "execution_count": 8,
     "metadata": {},
     "output_type": "execute_result"
    }
   ],
   "source": [
    "clf = xgboost.XGBClassifier()\n",
    "cvstrat = sklearn.model_selection.GroupKFold(10).split(X,groups=labels.person)\n",
    "preds = sklearn.model_selection.cross_val_predict(clf,X,y,cv=cvstrat)\n",
    "a = [\"1 None\",\"2 KOT\",\"3 KK\",\"4 FTL\"]\n",
    "ConfusionMatrix(y,preds,a,display_sum=False)"
   ]
  },
  {
   "cell_type": "code",
   "execution_count": 5,
   "metadata": {
    "scrolled": false
   },
   "outputs": [],
   "source": [
    "\n",
    "\n",
    "clf = xgboost.XGBClassifier()\n",
    "cv = sklearn.model_selection.KFold(10,shuffle=True,random_state=0).split(X)\n",
    "preds = sklearn.model_selection.cross_val_predict(clf,X,y,cv=cv)"
   ]
  },
  {
   "cell_type": "code",
   "execution_count": 6,
   "metadata": {},
   "outputs": [
    {
     "data": {
      "text/plain": [
       "Predicted  1 None  2 KOT  3 KK  4 FTL\n",
       "Actual                               \n",
       "1 None        864      5    11     15\n",
       "2 KOT          81    102     9      4\n",
       "3 KK           50      9   134      1\n",
       "4 FTL          16      0     1    488"
      ]
     },
     "execution_count": 6,
     "metadata": {},
     "output_type": "execute_result"
    }
   ],
   "source": [
    "a = [\"1 None\",\"2 KOT\",\"3 KK\",\"4 FTL\"]\n",
    "#a.reverse()\n",
    "#ConfusionMatrix([a[i] for i in y],[a[i] for i in preds])\n",
    "ConfusionMatrix(y,preds,a,display_sum=False)"
   ]
  },
  {
   "cell_type": "code",
   "execution_count": 7,
   "metadata": {},
   "outputs": [
    {
     "data": {
      "text/plain": [
       "Predicted  1 None  2 KOT  3 KK  4 FTL\n",
       "Actual                               \n",
       "1 None        724     56    66     49\n",
       "2 KOT         121     38    28      9\n",
       "3 KK           75     10   101      8\n",
       "4 FTL          37      3     6    459"
      ]
     },
     "execution_count": 7,
     "metadata": {},
     "output_type": "execute_result"
    }
   ],
   "source": []
  }
 ],
 "metadata": {
  "kernelspec": {
   "display_name": "Python 3",
   "language": "python",
   "name": "python3"
  },
  "language_info": {
   "codemirror_mode": {
    "name": "ipython",
    "version": 3
   },
   "file_extension": ".py",
   "mimetype": "text/x-python",
   "name": "python",
   "nbconvert_exporter": "python",
   "pygments_lexer": "ipython3",
   "version": "3.6.3"
  }
 },
 "nbformat": 4,
 "nbformat_minor": 2
}
