{
 "cells": [
  {
   "cell_type": "code",
   "execution_count": 1,
   "metadata": {},
   "outputs": [],
   "source": [
    "%load_ext autoreload\n",
    "%autoreload 2\n",
    "import os; import sys;src_dir = os.path.join(os.getcwd(), os.pardir, 'src');sys.path.append(src_dir)"
   ]
  },
  {
   "cell_type": "code",
   "execution_count": 6,
   "metadata": {},
   "outputs": [
    {
     "name": "stderr",
     "output_type": "stream",
     "text": [
      "/export/home1/NoCsBack/dtai/tomd/miniconda/lib/python3.6/site-packages/statsmodels/compat/pandas.py:56: FutureWarning: The pandas.core.datetools module is deprecated and will be removed in a future version. Please use the pandas.tseries module instead.\n",
      "  from pandas.core import datetools\n"
     ]
    },
    {
     "data": {
      "text/html": [
       "<div>\n",
       "<style scoped>\n",
       "    .dataframe tbody tr th:only-of-type {\n",
       "        vertical-align: middle;\n",
       "    }\n",
       "\n",
       "    .dataframe tbody tr th {\n",
       "        vertical-align: top;\n",
       "    }\n",
       "\n",
       "    .dataframe thead th {\n",
       "        text-align: right;\n",
       "    }\n",
       "</style>\n",
       "<table border=\"1\" class=\"dataframe\">\n",
       "  <thead>\n",
       "    <tr style=\"text-align: right;\">\n",
       "      <th></th>\n",
       "      <th>df_key</th>\n",
       "      <th>description</th>\n",
       "    </tr>\n",
       "  </thead>\n",
       "  <tbody>\n",
       "    <tr>\n",
       "      <th>0</th>\n",
       "      <td>rawconcat</td>\n",
       "      <td>Raw coordinates (all split files concatenated)</td>\n",
       "    </tr>\n",
       "    <tr>\n",
       "      <th>1</th>\n",
       "      <td>angles_raw</td>\n",
       "      <td>angles computed of rawconcat</td>\n",
       "    </tr>\n",
       "  </tbody>\n",
       "</table>\n",
       "</div>"
      ],
      "text/plain": [
       "       df_key                                     description\n",
       "0   rawconcat  Raw coordinates (all split files concatenated)\n",
       "1  angles_raw                    angles computed of rawconcat"
      ]
     },
     "execution_count": 6,
     "metadata": {},
     "output_type": "execute_result"
    }
   ],
   "source": [
    "import pandas as pd\n",
    "import matplotlib.pyplot as plt\n",
    "import numpy as np\n",
    "import features.smooth as sm\n",
    "import features.angles as ang\n",
    "import sklearn.preprocessing\n",
    "import tqdm\n",
    "import tsfresh\n",
    "#import tsfresh\n",
    "from data.dal import DAL\n",
    "features = DAL(\"features.hdf\")\n",
    "split = DAL(\"split.hdf\")\n",
    "features.overview()"
   ]
  },
  {
   "cell_type": "markdown",
   "metadata": {},
   "source": [
    "## Smoothening with Fourier transform and flattening exercises into 1 dataframe"
   ]
  },
  {
   "cell_type": "code",
   "execution_count": 40,
   "metadata": {},
   "outputs": [
    {
     "name": "stderr",
     "output_type": "stream",
     "text": [
      "100%|██████████| 1790/1790 [00:30<00:00, 58.21it/s]\n"
     ]
    }
   ],
   "source": [
    "split = DAL(\"split.hdf\")\n",
    "ov = split.overview()\n",
    "\n",
    "def fouriertransform(overview):\n",
    "    frames = []\n",
    "    for row in tqdm.tqdm(list(overview.itertuples())):\n",
    "        df = split.get(row.df_key)\n",
    "        df = sm.fourier(df,5)\n",
    "        df['id'] = row.Index\n",
    "        frames.append(df)\n",
    "    return pd.concat(frames)\n",
    "fourier5 = fouriertransform(ov)\n",
    "features.add(fourier5,\"fourier5\",\"Raw coordinates smoothed to their 5 highest fourier freqencies\")"
   ]
  },
  {
   "cell_type": "code",
   "execution_count": 3,
   "metadata": {},
   "outputs": [
    {
     "name": "stderr",
     "output_type": "stream",
     "text": [
      "100%|██████████| 1790/1790 [00:06<00:00, 265.03it/s]\n"
     ]
    }
   ],
   "source": [
    "#no fourier\n",
    "split = DAL(\"split.hdf\")\n",
    "ov = split.overview()\n",
    "\n",
    "def concat(overview):\n",
    "    frames = []\n",
    "    for row in tqdm.tqdm(list(overview.itertuples())):\n",
    "        df = split.get(row.df_key)\n",
    "        #df = sm.fourier(df,5)\n",
    "        df['id'] = row.Index\n",
    "        frames.append(df)\n",
    "    return pd.concat(frames)\n",
    "c = concat(ov)\n",
    "features.add(c,\"rawconcat\",\"Raw coordinates (all split files concatenated)\")"
   ]
  },
  {
   "cell_type": "markdown",
   "metadata": {},
   "source": [
    "## Computing angles"
   ]
  },
  {
   "cell_type": "code",
   "execution_count": 4,
   "metadata": {
    "scrolled": true
   },
   "outputs": [
    {
     "data": {
      "text/html": [
       "<div>\n",
       "<style scoped>\n",
       "    .dataframe tbody tr th:only-of-type {\n",
       "        vertical-align: middle;\n",
       "    }\n",
       "\n",
       "    .dataframe tbody tr th {\n",
       "        vertical-align: top;\n",
       "    }\n",
       "\n",
       "    .dataframe thead th {\n",
       "        text-align: right;\n",
       "    }\n",
       "</style>\n",
       "<table border=\"1\" class=\"dataframe\">\n",
       "  <thead>\n",
       "    <tr style=\"text-align: right;\">\n",
       "      <th></th>\n",
       "      <th>df_key</th>\n",
       "      <th>description</th>\n",
       "    </tr>\n",
       "  </thead>\n",
       "  <tbody>\n",
       "    <tr>\n",
       "      <th>0</th>\n",
       "      <td>rawconcat</td>\n",
       "      <td>Raw coordinates (all split files concatenated)</td>\n",
       "    </tr>\n",
       "    <tr>\n",
       "      <th>1</th>\n",
       "      <td>angles_raw</td>\n",
       "      <td>angles computed of rawconcat</td>\n",
       "    </tr>\n",
       "  </tbody>\n",
       "</table>\n",
       "</div>"
      ],
      "text/plain": [
       "       df_key                                     description\n",
       "0   rawconcat  Raw coordinates (all split files concatenated)\n",
       "1  angles_raw                    angles computed of rawconcat"
      ]
     },
     "execution_count": 4,
     "metadata": {},
     "output_type": "execute_result"
    }
   ],
   "source": [
    "df = features.get(\"rawconcat\")\n",
    "angdf = ang.kinect.get_angles(df)\n",
    "angdf['id'] = df['id']\n",
    "features.add(angdf,\"angles_raw\",\"angles computed of rawconcat\")\n",
    "features.overview()"
   ]
  },
  {
   "cell_type": "markdown",
   "metadata": {},
   "source": [
    "## computing tsfresh features"
   ]
  },
  {
   "cell_type": "code",
   "execution_count": 7,
   "metadata": {},
   "outputs": [
    {
     "name": "stderr",
     "output_type": "stream",
     "text": [
      "Feature Extraction: 100%|██████████| 20/20 [00:04<00:00,  4.97it/s]\n"
     ]
    }
   ],
   "source": [
    "df = features.get(\"angles_raw\")\n",
    "settings = tsfresh.feature_extraction.settings.MinimalFCParameters()\n",
    "tsfreshfeatures = tsfresh.extract_features(df,column_id=\"id\",default_fc_parameters=settings)\n",
    "features.add(tsfreshfeatures,\"tsfresh_raw_min\", \"Minimal tsfresh features on angles_raw\")"
   ]
  }
 ],
 "metadata": {
  "kernelspec": {
   "display_name": "Python 3",
   "language": "python",
   "name": "python3"
  },
  "language_info": {
   "codemirror_mode": {
    "name": "ipython",
    "version": 3
   },
   "file_extension": ".py",
   "mimetype": "text/x-python",
   "name": "python",
   "nbconvert_exporter": "python",
   "pygments_lexer": "ipython3",
   "version": "3.6.3"
  }
 },
 "nbformat": 4,
 "nbformat_minor": 2
}
